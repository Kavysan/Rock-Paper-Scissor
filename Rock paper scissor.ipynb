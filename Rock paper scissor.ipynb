{
 "cells": [
  {
   "cell_type": "code",
   "execution_count": 1,
   "id": "53ea82ab",
   "metadata": {},
   "outputs": [],
   "source": [
    "import random"
   ]
  },
  {
   "cell_type": "code",
   "execution_count": 8,
   "id": "4ec811a0",
   "metadata": {},
   "outputs": [],
   "source": [
    "class Rock_Paper_Scissor:\n",
    "\n",
    "    def computer_select(self,player,mpp={1:\"rock\",2:\"paper\",3:\"scissor\"}):\n",
    "        computer = random.randint(1,3)\n",
    "        computer = mpp[computer]\n",
    "        print(f\"\\nYour choice is {player} and the computer's choice is {computer} \")\n",
    "        if player == computer:\n",
    "            print(\"game tied\")\n",
    "        elif (player == \"rock\" and computer == \"scissor\") or (player == \"paper\" and computer == \"rock\") or (player == \"scissor\" and computer == \"paper\"): \n",
    "            print(\"You won\")\n",
    "        else:\n",
    "            print(\"You lose\")\n",
    "            \n"
   ]
  },
  {
   "cell_type": "code",
   "execution_count": null,
   "id": "dfde14aa",
   "metadata": {},
   "outputs": [
    {
     "name": "stdout",
     "output_type": "stream",
     "text": [
      "Choose any one of the following:\n",
      " rock\n",
      " paper\n",
      " scissor\n",
      " quit\n",
      "\n",
      "Enter your choice here : rock\n",
      "\n",
      "Your choice is rock and the computer's choice is scissor \n",
      "You won\n",
      "\n",
      "Enter your choice here : rock\n",
      "\n",
      "Your choice is rock and the computer's choice is rock \n",
      "game tied\n"
     ]
    }
   ],
   "source": [
    "rps = Rock_Paper_Scissor()\n",
    "print(\"Choose any one of the following:\\n rock\\n paper\\n scissor\\n quit\")\n",
    "\n",
    "while True:\n",
    "    player = input(\"\\nEnter your choice here : \")\n",
    "    player = player.lower()\n",
    "    if player == \"quit\":\n",
    "            print(\"Thank you for playing\\n\")\n",
    "            break\n",
    "    if player != \"rock\" and player != \"paper\" and player != \"scissor\":\n",
    "        print(\"Oops, wrong choice. Choose any from the options listed:\\n rock\\n paper\\n scissor\\n quit\")\n",
    "    else:\n",
    "        rps.computer_select(player)"
   ]
  },
  {
   "cell_type": "code",
   "execution_count": null,
   "id": "2141d822",
   "metadata": {},
   "outputs": [],
   "source": []
  }
 ],
 "metadata": {
  "kernelspec": {
   "display_name": "Python 3 (ipykernel)",
   "language": "python",
   "name": "python3"
  },
  "language_info": {
   "codemirror_mode": {
    "name": "ipython",
    "version": 3
   },
   "file_extension": ".py",
   "mimetype": "text/x-python",
   "name": "python",
   "nbconvert_exporter": "python",
   "pygments_lexer": "ipython3",
   "version": "3.11.4"
  }
 },
 "nbformat": 4,
 "nbformat_minor": 5
}
